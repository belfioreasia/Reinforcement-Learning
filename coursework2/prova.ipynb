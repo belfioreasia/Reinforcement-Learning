{
 "cells": [
  {
   "cell_type": "code",
   "execution_count": null,
   "metadata": {
    "vscode": {
     "languageId": "plaintext"
    }
   },
   "outputs": [],
   "source": [
    "from importlib import reload\n",
    "import utils\n",
    "reload(utils)\n",
    "from utils import train_net, visualise_net_results, print_hyperparameters, plot_return_by_episode\n",
    "import torch"
   ]
  },
  {
   "cell_type": "code",
   "execution_count": null,
   "metadata": {
    "vscode": {
     "languageId": "plaintext"
    }
   },
   "outputs": [],
   "source": [
    "reload(utils)\n",
    "from utils import visualise_net_results, print_hyperparameters, plot_return_by_episode, train_net\n",
    "# Keep track of the model version (for multiple model testing)\n",
    "# model_number = 1\n",
    "model_number = 0 \n",
    "save_model = [False, \"model/policy_net.pth\"]\n",
    "save_fig = False\n",
    "\n",
    "# Set hyperparameters\n",
    "NUM_RUNS = 10 # [OK]\n",
    "\n",
    "A = 5 # [OK] size of each hidden layer\n",
    "B = 2 # [OK] number of DQN hidden layers\n",
    "C = 0.01 # [OK] learning rate\n",
    "D = 30000 # [OK] size of Replay Buffer\n",
    "E = 300 # [OK] number of training episodes (needs to stabilise for >50)\n",
    "F = 0.2 # [OK] epsilon value for epsilon-greedy policy\n",
    "G = 1 # [OK] reward discount\n",
    "H = 100 # size of replay sampled training batch\n",
    "I = 50 # frequency (number of steps) of target network update\n",
    "\n",
    "# Additional parameters\n",
    "DECAY_RATE = 0.95 # [OK] epsilon decay rate\n",
    "model_optim=\"Adam\" # [OK] model optimizer\n",
    "\n",
    "# Q1\n",
    "# Train Model\n",
    "runs_results, pol_net = train_net(NUM_RUNS, A, B, C, D, E, F, G, H, I, decay=DECAY_RATE, model_optim=model_optim, save=save_model, show=False)"
   ]
  },
  {
   "cell_type": "code",
   "execution_count": null,
   "metadata": {
    "vscode": {
     "languageId": "plaintext"
    }
   },
   "outputs": [],
   "source": [
    "import pandas as pd\n",
    "import numpy as np\n",
    "data = pd.DataFrame(np.array(runs_results))\n",
    "data.to_csv(f\"model/model_{model_number}_results.csv\", index=True, index_label=\"Run_number\")\n",
    "data.mean(axis=1)"
   ]
  },
  {
   "cell_type": "code",
   "execution_count": null,
   "metadata": {
    "vscode": {
     "languageId": "plaintext"
    }
   },
   "outputs": [],
   "source": [
    "reload(utils)\n",
    "from utils import visualise_net_results, print_hyperparameters, plot_return_by_episode, train_net\n",
    "\n",
    "visualise_net_results(net=pol_net, position=0., velocity=0., q=True, save=[False, 0])\n"
   ]
  }
 ],
 "metadata": {
  "language_info": {
   "name": "python"
  }
 },
 "nbformat": 4,
 "nbformat_minor": 2
}
